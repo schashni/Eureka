{
 "cells": [
  {
   "cell_type": "code",
   "execution_count": 7,
   "id": "initial_id",
   "metadata": {
    "collapsed": true,
    "ExecuteTime": {
     "end_time": "2024-03-07T13:23:28.346430437Z",
     "start_time": "2024-03-07T13:23:27.663269295Z"
    }
   },
   "outputs": [
    {
     "ename": "ConfigAttributeError",
     "evalue": "Missing key task\n    full_key: task\n    object_type=dict",
     "output_type": "error",
     "traceback": [
      "\u001B[0;31m---------------------------------------------------------------------------\u001B[0m",
      "\u001B[0;31mConfigAttributeError\u001B[0m                      Traceback (most recent call last)",
      "Cell \u001B[0;32mIn[7], line 15\u001B[0m\n\u001B[1;32m     10\u001B[0m cfg_dict \u001B[38;5;241m=\u001B[39m {\n\u001B[1;32m     11\u001B[0m     \u001B[38;5;124m\"\u001B[39m\u001B[38;5;124menv_path\u001B[39m\u001B[38;5;124m\"\u001B[39m: \u001B[38;5;124m\"\u001B[39m\u001B[38;5;124m\"\u001B[39m,  \u001B[38;5;66;03m# Add any other necessary configurations here\u001B[39;00m\n\u001B[1;32m     12\u001B[0m }\n\u001B[1;32m     13\u001B[0m cfg \u001B[38;5;241m=\u001B[39m OmegaConf\u001B[38;5;241m.\u001B[39mcreate(cfg_dict)\n\u001B[0;32m---> 15\u001B[0m envs \u001B[38;5;241m=\u001B[39m \u001B[43misaacgymenvs\u001B[49m\u001B[38;5;241;43m.\u001B[39;49m\u001B[43mmake\u001B[49m\u001B[43m(\u001B[49m\n\u001B[1;32m     16\u001B[0m \u001B[43m    \u001B[49m\u001B[43mseed\u001B[49m\u001B[38;5;241;43m=\u001B[39;49m\u001B[38;5;241;43m0\u001B[39;49m\u001B[43m,\u001B[49m\u001B[43m \u001B[49m\n\u001B[1;32m     17\u001B[0m \u001B[43m    \u001B[49m\u001B[43mtask\u001B[49m\u001B[38;5;241;43m=\u001B[39;49m\u001B[38;5;124;43m\"\u001B[39;49m\u001B[38;5;124;43mAnt\u001B[39;49m\u001B[38;5;124;43m\"\u001B[39;49m\u001B[43m,\u001B[49m\u001B[43m \u001B[49m\n\u001B[1;32m     18\u001B[0m \u001B[43m    \u001B[49m\u001B[43mnum_envs\u001B[49m\u001B[38;5;241;43m=\u001B[39;49m\u001B[43mnum_envs\u001B[49m\u001B[43m,\u001B[49m\u001B[43m \u001B[49m\n\u001B[1;32m     19\u001B[0m \u001B[43m    \u001B[49m\u001B[43msim_device\u001B[49m\u001B[38;5;241;43m=\u001B[39;49m\u001B[38;5;124;43m\"\u001B[39;49m\u001B[38;5;124;43mcuda:0\u001B[39;49m\u001B[38;5;124;43m\"\u001B[39;49m\u001B[43m,\u001B[49m\n\u001B[1;32m     20\u001B[0m \u001B[43m    \u001B[49m\u001B[43mrl_device\u001B[49m\u001B[38;5;241;43m=\u001B[39;49m\u001B[38;5;124;43m\"\u001B[39;49m\u001B[38;5;124;43mcuda:0\u001B[39;49m\u001B[38;5;124;43m\"\u001B[39;49m\u001B[43m,\u001B[49m\n\u001B[1;32m     21\u001B[0m \u001B[43m    \u001B[49m\u001B[43mcfg\u001B[49m\u001B[38;5;241;43m=\u001B[39;49m\u001B[43mcfg\u001B[49m\n\u001B[1;32m     22\u001B[0m \u001B[43m)\u001B[49m\n",
      "File \u001B[0;32m~/Eureka final/Eureka/isaacgymenvs/isaacgymenvs/__init__.py:44\u001B[0m, in \u001B[0;36mmake\u001B[0;34m(seed, task, num_envs, sim_device, rl_device, graphics_device_id, headless, multi_gpu, virtual_screen_capture, force_render, cfg)\u001B[0m\n\u001B[1;32m     41\u001B[0m         cfg_dict[\u001B[38;5;124m'\u001B[39m\u001B[38;5;124menv\u001B[39m\u001B[38;5;124m'\u001B[39m][\u001B[38;5;124m'\u001B[39m\u001B[38;5;124mnumEnvs\u001B[39m\u001B[38;5;124m'\u001B[39m] \u001B[38;5;241m=\u001B[39m num_envs\n\u001B[1;32m     42\u001B[0m \u001B[38;5;66;03m# reuse existing config\u001B[39;00m\n\u001B[1;32m     43\u001B[0m \u001B[38;5;28;01melse\u001B[39;00m:\n\u001B[0;32m---> 44\u001B[0m     cfg_dict \u001B[38;5;241m=\u001B[39m omegaconf_to_dict(\u001B[43mcfg\u001B[49m\u001B[38;5;241;43m.\u001B[39;49m\u001B[43mtask\u001B[49m)\n\u001B[1;32m     46\u001B[0m create_rlgpu_env \u001B[38;5;241m=\u001B[39m get_rlgames_env_creator(\n\u001B[1;32m     47\u001B[0m     seed\u001B[38;5;241m=\u001B[39mseed,\n\u001B[1;32m     48\u001B[0m     task_config\u001B[38;5;241m=\u001B[39mcfg_dict,\n\u001B[0;32m   (...)\u001B[0m\n\u001B[1;32m     57\u001B[0m     force_render\u001B[38;5;241m=\u001B[39mforce_render,\n\u001B[1;32m     58\u001B[0m )\n\u001B[1;32m     59\u001B[0m \u001B[38;5;28;01mreturn\u001B[39;00m create_rlgpu_env()\n",
      "File \u001B[0;32m~/miniconda3/envs/eureka/lib/python3.8/site-packages/omegaconf/dictconfig.py:355\u001B[0m, in \u001B[0;36mDictConfig.__getattr__\u001B[0;34m(self, key)\u001B[0m\n\u001B[1;32m    351\u001B[0m     \u001B[38;5;28;01mreturn\u001B[39;00m \u001B[38;5;28mself\u001B[39m\u001B[38;5;241m.\u001B[39m_get_impl(\n\u001B[1;32m    352\u001B[0m         key\u001B[38;5;241m=\u001B[39mkey, default_value\u001B[38;5;241m=\u001B[39m_DEFAULT_MARKER_, validate_key\u001B[38;5;241m=\u001B[39m\u001B[38;5;28;01mFalse\u001B[39;00m\n\u001B[1;32m    353\u001B[0m     )\n\u001B[1;32m    354\u001B[0m \u001B[38;5;28;01mexcept\u001B[39;00m ConfigKeyError \u001B[38;5;28;01mas\u001B[39;00m e:\n\u001B[0;32m--> 355\u001B[0m     \u001B[38;5;28;43mself\u001B[39;49m\u001B[38;5;241;43m.\u001B[39;49m\u001B[43m_format_and_raise\u001B[49m\u001B[43m(\u001B[49m\n\u001B[1;32m    356\u001B[0m \u001B[43m        \u001B[49m\u001B[43mkey\u001B[49m\u001B[38;5;241;43m=\u001B[39;49m\u001B[43mkey\u001B[49m\u001B[43m,\u001B[49m\u001B[43m \u001B[49m\u001B[43mvalue\u001B[49m\u001B[38;5;241;43m=\u001B[39;49m\u001B[38;5;28;43;01mNone\u001B[39;49;00m\u001B[43m,\u001B[49m\u001B[43m \u001B[49m\u001B[43mcause\u001B[49m\u001B[38;5;241;43m=\u001B[39;49m\u001B[43me\u001B[49m\u001B[43m,\u001B[49m\u001B[43m \u001B[49m\u001B[43mtype_override\u001B[49m\u001B[38;5;241;43m=\u001B[39;49m\u001B[43mConfigAttributeError\u001B[49m\n\u001B[1;32m    357\u001B[0m \u001B[43m    \u001B[49m\u001B[43m)\u001B[49m\n\u001B[1;32m    358\u001B[0m \u001B[38;5;28;01mexcept\u001B[39;00m \u001B[38;5;167;01mException\u001B[39;00m \u001B[38;5;28;01mas\u001B[39;00m e:\n\u001B[1;32m    359\u001B[0m     \u001B[38;5;28mself\u001B[39m\u001B[38;5;241m.\u001B[39m_format_and_raise(key\u001B[38;5;241m=\u001B[39mkey, value\u001B[38;5;241m=\u001B[39m\u001B[38;5;28;01mNone\u001B[39;00m, cause\u001B[38;5;241m=\u001B[39me)\n",
      "File \u001B[0;32m~/miniconda3/envs/eureka/lib/python3.8/site-packages/omegaconf/base.py:231\u001B[0m, in \u001B[0;36mNode._format_and_raise\u001B[0;34m(self, key, value, cause, msg, type_override)\u001B[0m\n\u001B[1;32m    223\u001B[0m \u001B[38;5;28;01mdef\u001B[39;00m \u001B[38;5;21m_format_and_raise\u001B[39m(\n\u001B[1;32m    224\u001B[0m     \u001B[38;5;28mself\u001B[39m,\n\u001B[1;32m    225\u001B[0m     key: Any,\n\u001B[0;32m   (...)\u001B[0m\n\u001B[1;32m    229\u001B[0m     type_override: Any \u001B[38;5;241m=\u001B[39m \u001B[38;5;28;01mNone\u001B[39;00m,\n\u001B[1;32m    230\u001B[0m ) \u001B[38;5;241m-\u001B[39m\u001B[38;5;241m>\u001B[39m \u001B[38;5;28;01mNone\u001B[39;00m:\n\u001B[0;32m--> 231\u001B[0m     \u001B[43mformat_and_raise\u001B[49m\u001B[43m(\u001B[49m\n\u001B[1;32m    232\u001B[0m \u001B[43m        \u001B[49m\u001B[43mnode\u001B[49m\u001B[38;5;241;43m=\u001B[39;49m\u001B[38;5;28;43mself\u001B[39;49m\u001B[43m,\u001B[49m\n\u001B[1;32m    233\u001B[0m \u001B[43m        \u001B[49m\u001B[43mkey\u001B[49m\u001B[38;5;241;43m=\u001B[39;49m\u001B[43mkey\u001B[49m\u001B[43m,\u001B[49m\n\u001B[1;32m    234\u001B[0m \u001B[43m        \u001B[49m\u001B[43mvalue\u001B[49m\u001B[38;5;241;43m=\u001B[39;49m\u001B[43mvalue\u001B[49m\u001B[43m,\u001B[49m\n\u001B[1;32m    235\u001B[0m \u001B[43m        \u001B[49m\u001B[43mmsg\u001B[49m\u001B[38;5;241;43m=\u001B[39;49m\u001B[38;5;28;43mstr\u001B[39;49m\u001B[43m(\u001B[49m\u001B[43mcause\u001B[49m\u001B[43m)\u001B[49m\u001B[43m \u001B[49m\u001B[38;5;28;43;01mif\u001B[39;49;00m\u001B[43m \u001B[49m\u001B[43mmsg\u001B[49m\u001B[43m \u001B[49m\u001B[38;5;129;43;01mis\u001B[39;49;00m\u001B[43m \u001B[49m\u001B[38;5;28;43;01mNone\u001B[39;49;00m\u001B[43m \u001B[49m\u001B[38;5;28;43;01melse\u001B[39;49;00m\u001B[43m \u001B[49m\u001B[43mmsg\u001B[49m\u001B[43m,\u001B[49m\n\u001B[1;32m    236\u001B[0m \u001B[43m        \u001B[49m\u001B[43mcause\u001B[49m\u001B[38;5;241;43m=\u001B[39;49m\u001B[43mcause\u001B[49m\u001B[43m,\u001B[49m\n\u001B[1;32m    237\u001B[0m \u001B[43m        \u001B[49m\u001B[43mtype_override\u001B[49m\u001B[38;5;241;43m=\u001B[39;49m\u001B[43mtype_override\u001B[49m\u001B[43m,\u001B[49m\n\u001B[1;32m    238\u001B[0m \u001B[43m    \u001B[49m\u001B[43m)\u001B[49m\n\u001B[1;32m    239\u001B[0m     \u001B[38;5;28;01massert\u001B[39;00m \u001B[38;5;28;01mFalse\u001B[39;00m\n",
      "File \u001B[0;32m~/miniconda3/envs/eureka/lib/python3.8/site-packages/omegaconf/_utils.py:899\u001B[0m, in \u001B[0;36mformat_and_raise\u001B[0;34m(node, key, value, msg, cause, type_override)\u001B[0m\n\u001B[1;32m    896\u001B[0m     ex\u001B[38;5;241m.\u001B[39mref_type \u001B[38;5;241m=\u001B[39m ref_type\n\u001B[1;32m    897\u001B[0m     ex\u001B[38;5;241m.\u001B[39mref_type_str \u001B[38;5;241m=\u001B[39m ref_type_str\n\u001B[0;32m--> 899\u001B[0m \u001B[43m_raise\u001B[49m\u001B[43m(\u001B[49m\u001B[43mex\u001B[49m\u001B[43m,\u001B[49m\u001B[43m \u001B[49m\u001B[43mcause\u001B[49m\u001B[43m)\u001B[49m\n",
      "File \u001B[0;32m~/miniconda3/envs/eureka/lib/python3.8/site-packages/omegaconf/_utils.py:797\u001B[0m, in \u001B[0;36m_raise\u001B[0;34m(ex, cause)\u001B[0m\n\u001B[1;32m    795\u001B[0m \u001B[38;5;28;01melse\u001B[39;00m:\n\u001B[1;32m    796\u001B[0m     ex\u001B[38;5;241m.\u001B[39m__cause__ \u001B[38;5;241m=\u001B[39m \u001B[38;5;28;01mNone\u001B[39;00m\n\u001B[0;32m--> 797\u001B[0m \u001B[38;5;28;01mraise\u001B[39;00m ex\u001B[38;5;241m.\u001B[39mwith_traceback(sys\u001B[38;5;241m.\u001B[39mexc_info()[\u001B[38;5;241m2\u001B[39m])\n",
      "File \u001B[0;32m~/miniconda3/envs/eureka/lib/python3.8/site-packages/omegaconf/dictconfig.py:351\u001B[0m, in \u001B[0;36mDictConfig.__getattr__\u001B[0;34m(self, key)\u001B[0m\n\u001B[1;32m    348\u001B[0m     \u001B[38;5;28;01mraise\u001B[39;00m \u001B[38;5;167;01mAttributeError\u001B[39;00m()\n\u001B[1;32m    350\u001B[0m \u001B[38;5;28;01mtry\u001B[39;00m:\n\u001B[0;32m--> 351\u001B[0m     \u001B[38;5;28;01mreturn\u001B[39;00m \u001B[38;5;28;43mself\u001B[39;49m\u001B[38;5;241;43m.\u001B[39;49m\u001B[43m_get_impl\u001B[49m\u001B[43m(\u001B[49m\n\u001B[1;32m    352\u001B[0m \u001B[43m        \u001B[49m\u001B[43mkey\u001B[49m\u001B[38;5;241;43m=\u001B[39;49m\u001B[43mkey\u001B[49m\u001B[43m,\u001B[49m\u001B[43m \u001B[49m\u001B[43mdefault_value\u001B[49m\u001B[38;5;241;43m=\u001B[39;49m\u001B[43m_DEFAULT_MARKER_\u001B[49m\u001B[43m,\u001B[49m\u001B[43m \u001B[49m\u001B[43mvalidate_key\u001B[49m\u001B[38;5;241;43m=\u001B[39;49m\u001B[38;5;28;43;01mFalse\u001B[39;49;00m\n\u001B[1;32m    353\u001B[0m \u001B[43m    \u001B[49m\u001B[43m)\u001B[49m\n\u001B[1;32m    354\u001B[0m \u001B[38;5;28;01mexcept\u001B[39;00m ConfigKeyError \u001B[38;5;28;01mas\u001B[39;00m e:\n\u001B[1;32m    355\u001B[0m     \u001B[38;5;28mself\u001B[39m\u001B[38;5;241m.\u001B[39m_format_and_raise(\n\u001B[1;32m    356\u001B[0m         key\u001B[38;5;241m=\u001B[39mkey, value\u001B[38;5;241m=\u001B[39m\u001B[38;5;28;01mNone\u001B[39;00m, cause\u001B[38;5;241m=\u001B[39me, type_override\u001B[38;5;241m=\u001B[39mConfigAttributeError\n\u001B[1;32m    357\u001B[0m     )\n",
      "File \u001B[0;32m~/miniconda3/envs/eureka/lib/python3.8/site-packages/omegaconf/dictconfig.py:442\u001B[0m, in \u001B[0;36mDictConfig._get_impl\u001B[0;34m(self, key, default_value, validate_key)\u001B[0m\n\u001B[1;32m    438\u001B[0m \u001B[38;5;28;01mdef\u001B[39;00m \u001B[38;5;21m_get_impl\u001B[39m(\n\u001B[1;32m    439\u001B[0m     \u001B[38;5;28mself\u001B[39m, key: DictKeyType, default_value: Any, validate_key: \u001B[38;5;28mbool\u001B[39m \u001B[38;5;241m=\u001B[39m \u001B[38;5;28;01mTrue\u001B[39;00m\n\u001B[1;32m    440\u001B[0m ) \u001B[38;5;241m-\u001B[39m\u001B[38;5;241m>\u001B[39m Any:\n\u001B[1;32m    441\u001B[0m     \u001B[38;5;28;01mtry\u001B[39;00m:\n\u001B[0;32m--> 442\u001B[0m         node \u001B[38;5;241m=\u001B[39m \u001B[38;5;28;43mself\u001B[39;49m\u001B[38;5;241;43m.\u001B[39;49m\u001B[43m_get_child\u001B[49m\u001B[43m(\u001B[49m\n\u001B[1;32m    443\u001B[0m \u001B[43m            \u001B[49m\u001B[43mkey\u001B[49m\u001B[38;5;241;43m=\u001B[39;49m\u001B[43mkey\u001B[49m\u001B[43m,\u001B[49m\u001B[43m \u001B[49m\u001B[43mthrow_on_missing_key\u001B[49m\u001B[38;5;241;43m=\u001B[39;49m\u001B[38;5;28;43;01mTrue\u001B[39;49;00m\u001B[43m,\u001B[49m\u001B[43m \u001B[49m\u001B[43mvalidate_key\u001B[49m\u001B[38;5;241;43m=\u001B[39;49m\u001B[43mvalidate_key\u001B[49m\n\u001B[1;32m    444\u001B[0m \u001B[43m        \u001B[49m\u001B[43m)\u001B[49m\n\u001B[1;32m    445\u001B[0m     \u001B[38;5;28;01mexcept\u001B[39;00m (ConfigAttributeError, ConfigKeyError):\n\u001B[1;32m    446\u001B[0m         \u001B[38;5;28;01mif\u001B[39;00m default_value \u001B[38;5;129;01mis\u001B[39;00m \u001B[38;5;129;01mnot\u001B[39;00m _DEFAULT_MARKER_:\n",
      "File \u001B[0;32m~/miniconda3/envs/eureka/lib/python3.8/site-packages/omegaconf/basecontainer.py:73\u001B[0m, in \u001B[0;36mBaseContainer._get_child\u001B[0;34m(self, key, validate_access, validate_key, throw_on_missing_value, throw_on_missing_key)\u001B[0m\n\u001B[1;32m     64\u001B[0m \u001B[38;5;28;01mdef\u001B[39;00m \u001B[38;5;21m_get_child\u001B[39m(\n\u001B[1;32m     65\u001B[0m     \u001B[38;5;28mself\u001B[39m,\n\u001B[1;32m     66\u001B[0m     key: Any,\n\u001B[0;32m   (...)\u001B[0m\n\u001B[1;32m     70\u001B[0m     throw_on_missing_key: \u001B[38;5;28mbool\u001B[39m \u001B[38;5;241m=\u001B[39m \u001B[38;5;28;01mFalse\u001B[39;00m,\n\u001B[1;32m     71\u001B[0m ) \u001B[38;5;241m-\u001B[39m\u001B[38;5;241m>\u001B[39m Union[Optional[Node], List[Optional[Node]]]:\n\u001B[1;32m     72\u001B[0m \u001B[38;5;250m    \u001B[39m\u001B[38;5;124;03m\"\"\"Like _get_node, passing through to the nearest concrete Node.\"\"\"\u001B[39;00m\n\u001B[0;32m---> 73\u001B[0m     child \u001B[38;5;241m=\u001B[39m \u001B[38;5;28;43mself\u001B[39;49m\u001B[38;5;241;43m.\u001B[39;49m\u001B[43m_get_node\u001B[49m\u001B[43m(\u001B[49m\n\u001B[1;32m     74\u001B[0m \u001B[43m        \u001B[49m\u001B[43mkey\u001B[49m\u001B[38;5;241;43m=\u001B[39;49m\u001B[43mkey\u001B[49m\u001B[43m,\u001B[49m\n\u001B[1;32m     75\u001B[0m \u001B[43m        \u001B[49m\u001B[43mvalidate_access\u001B[49m\u001B[38;5;241;43m=\u001B[39;49m\u001B[43mvalidate_access\u001B[49m\u001B[43m,\u001B[49m\n\u001B[1;32m     76\u001B[0m \u001B[43m        \u001B[49m\u001B[43mvalidate_key\u001B[49m\u001B[38;5;241;43m=\u001B[39;49m\u001B[43mvalidate_key\u001B[49m\u001B[43m,\u001B[49m\n\u001B[1;32m     77\u001B[0m \u001B[43m        \u001B[49m\u001B[43mthrow_on_missing_value\u001B[49m\u001B[38;5;241;43m=\u001B[39;49m\u001B[43mthrow_on_missing_value\u001B[49m\u001B[43m,\u001B[49m\n\u001B[1;32m     78\u001B[0m \u001B[43m        \u001B[49m\u001B[43mthrow_on_missing_key\u001B[49m\u001B[38;5;241;43m=\u001B[39;49m\u001B[43mthrow_on_missing_key\u001B[49m\u001B[43m,\u001B[49m\n\u001B[1;32m     79\u001B[0m \u001B[43m    \u001B[49m\u001B[43m)\u001B[49m\n\u001B[1;32m     80\u001B[0m     \u001B[38;5;28;01mif\u001B[39;00m \u001B[38;5;28misinstance\u001B[39m(child, UnionNode) \u001B[38;5;129;01mand\u001B[39;00m \u001B[38;5;129;01mnot\u001B[39;00m _is_special(child):\n\u001B[1;32m     81\u001B[0m         value \u001B[38;5;241m=\u001B[39m child\u001B[38;5;241m.\u001B[39m_value()\n",
      "File \u001B[0;32m~/miniconda3/envs/eureka/lib/python3.8/site-packages/omegaconf/dictconfig.py:480\u001B[0m, in \u001B[0;36mDictConfig._get_node\u001B[0;34m(self, key, validate_access, validate_key, throw_on_missing_value, throw_on_missing_key)\u001B[0m\n\u001B[1;32m    478\u001B[0m \u001B[38;5;28;01mif\u001B[39;00m value \u001B[38;5;129;01mis\u001B[39;00m \u001B[38;5;28;01mNone\u001B[39;00m:\n\u001B[1;32m    479\u001B[0m     \u001B[38;5;28;01mif\u001B[39;00m throw_on_missing_key:\n\u001B[0;32m--> 480\u001B[0m         \u001B[38;5;28;01mraise\u001B[39;00m ConfigKeyError(\u001B[38;5;124mf\u001B[39m\u001B[38;5;124m\"\u001B[39m\u001B[38;5;124mMissing key \u001B[39m\u001B[38;5;132;01m{\u001B[39;00mkey\u001B[38;5;132;01m!s}\u001B[39;00m\u001B[38;5;124m\"\u001B[39m)\n\u001B[1;32m    481\u001B[0m \u001B[38;5;28;01melif\u001B[39;00m throw_on_missing_value \u001B[38;5;129;01mand\u001B[39;00m value\u001B[38;5;241m.\u001B[39m_is_missing():\n\u001B[1;32m    482\u001B[0m     \u001B[38;5;28;01mraise\u001B[39;00m MissingMandatoryValue(\u001B[38;5;124m\"\u001B[39m\u001B[38;5;124mMissing mandatory value: $KEY\u001B[39m\u001B[38;5;124m\"\u001B[39m)\n",
      "\u001B[0;31mConfigAttributeError\u001B[0m: Missing key task\n    full_key: task\n    object_type=dict"
     ]
    }
   ],
   "source": [
    "import isaacgym\n",
    "import isaacgymenvs\n",
    "import torch\n",
    "\n",
    "num_envs = 2000\n",
    "\n",
    "from omegaconf import OmegaConf\n",
    "\n",
    "# Create a DictConfig object with necessary configuration\n",
    "cfg_dict = {\n",
    "    \"env_path\": \"\",  # Add any other necessary configurations here\n",
    "}\n",
    "cfg = OmegaConf.create(cfg_dict)\n",
    "\n",
    "envs = isaacgymenvs.make(\n",
    "    seed=0, \n",
    "    task=\"Ant\", \n",
    "    num_envs=num_envs, \n",
    "    sim_device=\"cuda:0\",\n",
    "    rl_device=\"cuda:0\",\n",
    "    cfg=cfg\n",
    ")\n",
    "# print(\"Observation space is\", envs.observation_space)\n",
    "# print(\"Action space is\", envs.action_space)\n",
    "# obs = envs.reset()\n",
    "# for _ in range(20):\n",
    "# \trandom_actions = 2.0 * torch.rand((num_envs,) + envs.action_space.shape, device = 'cuda:0') - 1.0\n",
    "# \tenvs.step(random_actions)"
   ]
  },
  {
   "cell_type": "code",
   "outputs": [],
   "source": [],
   "metadata": {
    "collapsed": false
   },
   "id": "3d2f5587c1e38c2a"
  }
 ],
 "metadata": {
  "kernelspec": {
   "display_name": "Python 3",
   "language": "python",
   "name": "python3"
  },
  "language_info": {
   "codemirror_mode": {
    "name": "ipython",
    "version": 2
   },
   "file_extension": ".py",
   "mimetype": "text/x-python",
   "name": "python",
   "nbconvert_exporter": "python",
   "pygments_lexer": "ipython2",
   "version": "2.7.6"
  }
 },
 "nbformat": 4,
 "nbformat_minor": 5
}
