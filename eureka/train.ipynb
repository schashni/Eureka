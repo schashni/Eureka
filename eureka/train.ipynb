{
 "cells": [
  {
   "cell_type": "code",
   "execution_count": 1,
   "id": "initial_id",
   "metadata": {
    "collapsed": true,
    "ExecuteTime": {
     "end_time": "2024-03-08T13:50:30.783814201Z",
     "start_time": "2024-03-08T13:50:30.576363234Z"
    }
   },
   "outputs": [
    {
     "name": "stdout",
     "output_type": "stream",
     "text": [
      "Importing module 'gym_38' (/home/tohlob/Eureka final/isaacgym/python/isaacgym/_bindings/linux-x86_64/gym_38.so)\n",
      "Setting GYM_USD_PLUG_INFO_PATH to /home/tohlob/Eureka final/isaacgym/python/isaacgym/_bindings/linux-x86_64/usd/plugInfo.json\n"
     ]
    }
   ],
   "source": [
    "import logging\n",
    "import os\n",
    "import datetime\n",
    "\n",
    "import isaacgym\n",
    "\n"
   ]
  },
  {
   "cell_type": "code",
   "outputs": [
    {
     "name": "stdout",
     "output_type": "stream",
     "text": [
      "PyTorch version 2.0.0+cu117\n",
      "Device count 1\n",
      "/home/tohlob/Eureka final/isaacgym/python/isaacgym/_bindings/src/gymtorch\n"
     ]
    },
    {
     "name": "stderr",
     "output_type": "stream",
     "text": [
      "Using /home/tohlob/.cache/torch_extensions/py38_cu117 as PyTorch extensions root...\n",
      "Emitting ninja build file /home/tohlob/.cache/torch_extensions/py38_cu117/gymtorch/build.ninja...\n",
      "Building extension module gymtorch...\n",
      "Allowing ninja to set a default number of workers... (overridable by setting the environment variable MAX_JOBS=N)\n"
     ]
    },
    {
     "name": "stdout",
     "output_type": "stream",
     "text": [
      "ninja: no work to do.\n"
     ]
    },
    {
     "name": "stderr",
     "output_type": "stream",
     "text": [
      "Loading extension module gymtorch...\n",
      "2024-03-08 14:50:33,537 - INFO - logger - logger initialized\n",
      "<unknown>:3: DeprecationWarning: invalid escape sequence \\*\n"
     ]
    },
    {
     "name": "stdout",
     "output_type": "stream",
     "text": [
      "Error: FBX library failed to load - importing FBX data will not succeed. Message: No module named 'fbx'\n",
      "FBX tools must be installed from https://help.autodesk.com/view/FBX/2020/ENU/?guid=FBX_Developer_Help_scripting_with_python_fbx_installing_python_fbx_html\n"
     ]
    },
    {
     "ename": "NameError",
     "evalue": "name '__file__' is not defined",
     "output_type": "error",
     "traceback": [
      "\u001B[0;31m---------------------------------------------------------------------------\u001B[0m",
      "\u001B[0;31mNameError\u001B[0m                                 Traceback (most recent call last)",
      "Cell \u001B[0;32mIn[2], line 14\u001B[0m\n\u001B[1;32m     11\u001B[0m \u001B[38;5;28;01mfrom\u001B[39;00m \u001B[38;5;21;01misaacgymenvs\u001B[39;00m\u001B[38;5;21;01m.\u001B[39;00m\u001B[38;5;21;01mutils\u001B[39;00m\u001B[38;5;21;01m.\u001B[39;00m\u001B[38;5;21;01mutils\u001B[39;00m \u001B[38;5;28;01mimport\u001B[39;00m set_np_formatting, set_seed\n\u001B[1;32m     13\u001B[0m \u001B[38;5;66;03m# ROOT_DIR = os.getcwd()\u001B[39;00m\n\u001B[0;32m---> 14\u001B[0m ROOT_DIR \u001B[38;5;241m=\u001B[39m os\u001B[38;5;241m.\u001B[39mpath\u001B[38;5;241m.\u001B[39mdirname(os\u001B[38;5;241m.\u001B[39mpath\u001B[38;5;241m.\u001B[39mrealpath(\u001B[38;5;18;43m__file__\u001B[39;49m))\n",
      "\u001B[0;31mNameError\u001B[0m: name '__file__' is not defined"
     ]
    }
   ],
   "source": [
    "import hydra\n",
    "from hydra.utils import to_absolute_path\n",
    "from isaacgymenvs.tasks import isaacgym_task_map\n",
    "from omegaconf import DictConfig, OmegaConf\n",
    "import gym\n",
    "import sys \n",
    "import shutil\n",
    "from pathlib import Path\n",
    "\n",
    "from isaacgymenvs.utils.reformat import omegaconf_to_dict, print_dict\n",
    "from isaacgymenvs.utils.utils import set_np_formatting, set_seed\n",
    "\n",
    "# ROOT_DIR = os.getcwd()\n",
    "ROOT_DIR = os.path.dirname(os.path.realpath(__file__))\n"
   ],
   "metadata": {
    "collapsed": false,
    "ExecuteTime": {
     "end_time": "2024-03-08T13:50:34.947400134Z",
     "start_time": "2024-03-08T13:50:31.135937976Z"
    }
   },
   "id": "aa98f6f5bc9933c8",
   "execution_count": 2
  },
  {
   "cell_type": "code",
   "outputs": [],
   "source": [
    "\n",
    "def preprocess_train_config(cfg, config_dict):\n",
    "    \"\"\"\n",
    "    Adding common configuration parameters to the rl_games train config.\n",
    "    An alternative to this is inferring them in task-specific .yaml files, but that requires repeating the same\n",
    "    variable interpolations in each config.\n",
    "    \"\"\"\n",
    "\n",
    "    train_cfg = config_dict['params']['config']\n",
    "    train_cfg['full_experiment_name'] = cfg.get('full_experiment_name')\n",
    "\n",
    "    try:\n",
    "        model_size_multiplier = config_dict['params']['network']['mlp']['model_size_multiplier']\n",
    "        if model_size_multiplier != 1:\n",
    "            units = config_dict['params']['network']['mlp']['units']\n",
    "            for i, u in enumerate(units):\n",
    "                units[i] = u * model_size_multiplier\n",
    "            print(f'Modified MLP units by x{model_size_multiplier} to {config_dict[\"params\"][\"network\"][\"mlp\"][\"units\"]}')\n",
    "    except KeyError:\n",
    "        pass\n",
    "\n",
    "    return config_dict\n",
    "\n",
    "\n",
    "@hydra.main(config_name=\"config\", config_path=\"./cfg\")\n",
    "def launch_rlg_hydra(cfg: DictConfig):\n",
    "\n",
    "    from isaacgymenvs.utils.rlgames_utils import RLGPUEnv, RLGPUAlgoObserver, MultiObserver, ComplexObsRLGPUEnv\n",
    "    from isaacgymenvs.utils.wandb_utils import WandbAlgoObserver\n",
    "    from rl_games.common import env_configurations, vecenv\n",
    "    from rl_games.torch_runner import Runner\n",
    "    from rl_games.algos_torch import model_builder\n",
    "    from isaacgymenvs.learning import amp_continuous\n",
    "    from isaacgymenvs.learning import amp_players\n",
    "    from isaacgymenvs.learning import amp_models\n",
    "    from isaacgymenvs.learning import amp_network_builder\n",
    "    import isaacgymenvs\n",
    "\n",
    "\n",
    "    time_str = datetime.datetime.now().strftime(\"%Y-%m-%d_%H-%M-%S\")\n",
    "    run_name = f\"{cfg.wandb_name}_{time_str}\"\n",
    "\n",
    "    # ensure checkpoints can be specified as relative paths\n",
    "    if cfg.checkpoint:\n",
    "        cfg.checkpoint = to_absolute_path(cfg.checkpoint)\n",
    "\n",
    "    cfg_dict = omegaconf_to_dict(cfg)\n",
    "    # print_dict(cfg_dict)\n",
    "\n",
    "    # set numpy formatting for printing only\n",
    "    set_np_formatting()\n",
    "\n",
    "    # sets seed. if seed is -1 will pick a random one\n",
    "    rank = int(os.getenv(\"LOCAL_RANK\", \"0\"))\n",
    "    cfg.seed += rank\n",
    "    cfg.seed = set_seed(cfg.seed, torch_deterministic=cfg.torch_deterministic)\n",
    "    cfg.train.params.config.multi_gpu = cfg.multi_gpu\n",
    "\n",
    "\n",
    "    def create_isaacgym_env(**kwargs):\n",
    "        envs = isaacgymenvs.make(\n",
    "            cfg.seed, \n",
    "            cfg.task_name, \n",
    "            cfg.task.env.numEnvs, \n",
    "            cfg.sim_device,\n",
    "            cfg.rl_device,\n",
    "            cfg.graphics_device_id,\n",
    "            cfg.headless,\n",
    "            cfg.multi_gpu,\n",
    "            cfg.capture_video,\n",
    "            cfg.force_render,\n",
    "            cfg,\n",
    "            **kwargs,\n",
    "        )\n",
    "        if cfg.capture_video:\n",
    "            envs.is_vector_env = True\n",
    "            if cfg.test:\n",
    "                envs = gym.wrappers.RecordVideo(\n",
    "                    envs,\n",
    "                    f\"videos/{run_name}\",\n",
    "                    step_trigger=lambda step: (step % cfg.capture_video_freq == 0),\n",
    "                    video_length=cfg.capture_video_len,\n",
    "                )\n",
    "            else:\n",
    "                envs = gym.wrappers.RecordVideo(\n",
    "                    envs,\n",
    "                    f\"videos/{run_name}\",\n",
    "                    step_trigger=lambda step: (step % cfg.capture_video_freq == 0) and (step > 0),\n",
    "                    video_length=cfg.capture_video_len,\n",
    "                )\n",
    "        return envs\n",
    "\n",
    "    env_configurations.register('rlgpu', {\n",
    "        'vecenv_type': 'RLGPU',\n",
    "        'env_creator': lambda **kwargs: create_isaacgym_env(**kwargs),\n",
    "    })\n",
    "    \n",
    "    # Save the environment code!\n",
    "    try:\n",
    "        output_file = f\"{ROOT_DIR}/tasks/{cfg.task.env.env_name.lower()}.py\"\n",
    "        shutil.copy(output_file, f\"env.py\")\n",
    "    except:\n",
    "        import re\n",
    "        def camel_to_snake(name):\n",
    "            s1 = re.sub('(.)([A-Z][a-z]+)', r'\\1_\\2', name)\n",
    "            return re.sub('([a-z0-9])([A-Z])', r'\\1_\\2', s1).lower()\n",
    "        output_file = f\"{ROOT_DIR}/tasks/{camel_to_snake(cfg.task.name)}.py\"\n",
    "\n",
    "        shutil.copy(output_file, f\"env.py\")\n",
    "\n",
    "    vecenv.register('RLGPU', lambda config_name, num_actors, **kwargs: RLGPUEnv(config_name, num_actors, **kwargs))\n",
    "\n",
    "    rlg_config_dict = omegaconf_to_dict(cfg.train)\n",
    "    rlg_config_dict = preprocess_train_config(cfg, rlg_config_dict)\n",
    "\n",
    "    # register new AMP network builder and agent\n",
    "    def build_runner(algo_observer):\n",
    "        runner = Runner(algo_observer)\n",
    "        runner.algo_factory.register_builder('amp_continuous', lambda **kwargs : amp_continuous.AMPAgent(**kwargs))\n",
    "        runner.player_factory.register_builder('amp_continuous', lambda **kwargs : amp_players.AMPPlayerContinuous(**kwargs))\n",
    "        model_builder.register_model('continuous_amp', lambda network, **kwargs : amp_models.ModelAMPContinuous(network))\n",
    "        model_builder.register_network('amp', lambda **kwargs : amp_network_builder.AMPBuilder())\n",
    "\n",
    "        return runner\n",
    "\n",
    "    observers = [RLGPUAlgoObserver()]\n",
    "\n",
    "    if cfg.wandb_activate and rank ==0 :\n",
    "\n",
    "        import wandb\n",
    "        \n",
    "        # initialize wandb only once per horovod run (or always for non-horovod runs)\n",
    "        wandb_observer = WandbAlgoObserver(cfg)\n",
    "        observers.append(wandb_observer)\n",
    "\n",
    "    # dump config dict\n",
    "    exp_date = cfg.train.params.config.name + '-{date:%Y-%m-%d_%H-%M-%S}'.format(date=datetime.datetime.now())\n",
    "    experiment_dir = os.path.join('runs', exp_date)\n",
    "    print(\"Network Directory:\", Path.cwd() / experiment_dir / \"nn\")\n",
    "    print(\"Tensorboard Directory:\", Path.cwd() / experiment_dir / \"summaries\")\n",
    "\n",
    "    os.makedirs(experiment_dir, exist_ok=True)\n",
    "    with open(os.path.join(experiment_dir, 'config.yaml'), 'w') as f:\n",
    "        f.write(OmegaConf.to_yaml(cfg))\n",
    "    rlg_config_dict['params']['config']['log_dir'] = exp_date\n",
    "\n",
    "    # convert CLI arguments into dictionary\n",
    "    # create runner and set the settings\n",
    "    runner = build_runner(MultiObserver(observers))\n",
    "    runner.load(rlg_config_dict)\n",
    "    runner.reset()\n",
    "\n",
    "    statistics = runner.run({\n",
    "        'train': not cfg.test,\n",
    "        'play': cfg.test,\n",
    "        'checkpoint' : cfg.checkpoint,\n",
    "        'sigma': cfg.sigma if cfg.sigma != '' else None\n",
    "    })\n",
    "\n",
    "    if cfg.wandb_activate and rank == 0:\n",
    "        wandb.finish()\n",
    "        \n",
    "if __name__ == \"__main__\":\n",
    "    launch_rlg_hydra()\n"
   ],
   "metadata": {
    "collapsed": false
   },
   "id": "1ea1e99f71675ce6"
  }
 ],
 "metadata": {
  "kernelspec": {
   "display_name": "Python 3",
   "language": "python",
   "name": "python3"
  },
  "language_info": {
   "codemirror_mode": {
    "name": "ipython",
    "version": 2
   },
   "file_extension": ".py",
   "mimetype": "text/x-python",
   "name": "python",
   "nbconvert_exporter": "python",
   "pygments_lexer": "ipython2",
   "version": "2.7.6"
  }
 },
 "nbformat": 4,
 "nbformat_minor": 5
}
